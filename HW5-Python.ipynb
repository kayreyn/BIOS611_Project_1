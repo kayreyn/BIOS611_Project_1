{
 "cells": [
  {
   "cell_type": "code",
   "execution_count": 1,
   "metadata": {},
   "outputs": [],
   "source": [
    "import pandas as pd\n",
    "from sklearn.manifold import TSNE\n",
    "from plotnine import *\n",
    "from sklearn.preprocessing import MinMaxScaler\n",
    "from sklearn.cluster import SpectralClustering\n",
    "from sklearn.metrics import pairwise_distances\n",
    "import numpy as np"
   ]
  },
  {
   "cell_type": "code",
   "execution_count": 3,
   "metadata": {},
   "outputs": [],
   "source": [
    "# Load Data\n",
    "dat = pd.read_csv(\"https://raw.githubusercontent.com/Vincent-Toups/bios611-project1/master/source_data/datasets_38396_60978_charcters_stats.csv\")\n",
    "\n",
    "# Did it work?\n",
    "#dat.head"
   ]
  },
  {
   "cell_type": "code",
   "execution_count": 35,
   "metadata": {},
   "outputs": [
    {
     "data": {
      "text/plain": [
       "array([[-1.0327594e-02, -3.9937267e+00],\n",
       "       [-1.8020067e+01, -6.2237463e+00],\n",
       "       [-1.5290449e+00, -1.7622610e+01],\n",
       "       ...,\n",
       "       [-1.7664564e+01,  1.4123589e+00],\n",
       "       [-6.1246195e+00, -1.0211145e+01],\n",
       "       [-7.0417023e+00, -3.7213838e+00]], dtype=float32)"
      ]
     },
     "execution_count": 35,
     "metadata": {},
     "output_type": "execute_result"
    }
   ],
   "source": [
    "#TSNE dimensionality reduction\n",
    "\n",
    "# Normalize\n",
    "mms = MinMaxScaler();\n",
    "dat_no_dis = dat.drop([\"Name\", \"Alignment\"], axis = 1)\n",
    "normed = mms.fit_transform(dat_no_dis)\n",
    "\n",
    "# Run Projection\n",
    "projection = TSNE(n_components=2).fit_transform(normed);\n",
    "lowd = pd.DataFrame(projection, columns=[\"X1\",\"X2\"])\n",
    "lowd[\"Alignment\"] = dat[\"Alignment\"]"
   ]
  },
  {
   "cell_type": "code",
   "execution_count": 27,
   "metadata": {},
   "outputs": [],
   "source": [
    "# Save so this can be plotted in R\n",
    "lowd.to_csv('./derived_data/hw5_python.txt', sep = \"\\t\", index = False, )"
   ]
  },
  {
   "cell_type": "code",
   "execution_count": 32,
   "metadata": {},
   "outputs": [
    {
     "name": "stderr",
     "output_type": "stream",
     "text": [
      "/usr/local/lib/python3.8/dist-packages/plotnine/ggplot.py:727: PlotnineWarning: Saving 10 x 10 in image.\n",
      "/usr/local/lib/python3.8/dist-packages/plotnine/ggplot.py:730: PlotnineWarning: Filename: ./figures/H5_PlotNine.png\n"
     ]
    }
   ],
   "source": [
    "# Plot with Plot 9\n",
    "proj = (ggplot(lowd,aes(\"X1\",\"X2\")) + geom_point(aes(color=\"Alignment\")) + ggtitle(\"TSNE Plot Colored by Character Alignment\"))\n",
    "proj.save(filename = './figures/H5_PlotNine.png', width=10, height=10, dpi=1000)"
   ]
  },
  {
   "cell_type": "code",
   "execution_count": null,
   "metadata": {},
   "outputs": [],
   "source": []
  }
 ],
 "metadata": {
  "kernelspec": {
   "display_name": "Python 3",
   "language": "python",
   "name": "python3"
  },
  "language_info": {
   "codemirror_mode": {
    "name": "ipython",
    "version": 3
   },
   "file_extension": ".py",
   "mimetype": "text/x-python",
   "name": "python",
   "nbconvert_exporter": "python",
   "pygments_lexer": "ipython3",
   "version": "3.8.5"
  }
 },
 "nbformat": 4,
 "nbformat_minor": 4
}
